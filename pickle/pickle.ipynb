{
 "cells": [
  {
   "cell_type": "markdown",
   "metadata": {
    "collapsed": true,
    "pycharm": {
     "name": "#%% md\n"
    }
   },
   "source": [
    "# pickle\n",
    "模块 pickle 实现了对一个 Python 对象结构的二进制序列化和反序列化。\n",
    "\n",
    "\"pickling\" 是将 Python 对象及其所拥有的层次结构转化为一个字节流的过程，而 \"unpickling\" 是相反的操作，会将（来自一个 binary file 或者 bytes-like object 的）字节流转化回一个对象层次结构。\n",
    "\n",
    "pickling（和 unpickling）也被称为“序列化”, “编组” 1 或者 “平面化”。而为了避免混乱，此处采用术语 “封存 (pickling)” 和 “解封 (unpickling)”。\n",
    "\n",
    "# 与 json 模块的比较\n",
    "Pickle 协议和 JSON (JavaScript Object Notation) 间有着本质的不同：\n",
    "\n",
    "JSON 是一个文本序列化格式（它输出 unicode 文本，尽管在大多数时候它会接着以 utf-8 编码），而 pickle 是一个二进制序列化格式；\n",
    "\n",
    "JSON 是我们可以直观阅读的，而 pickle 不是；\n",
    "\n",
    "JSON是可互操作的，在Python系统之外广泛使用，而pickle则是Python专用的；\n",
    "\n",
    "默认情况下，JSON 只能表示 Python 内置类型的子集，不能表示自定义的类；但 pickle 可以表示大量的 Python 数据类型（可以合理使用 Python 的对象内省功能自动地表示大多数类型，复杂情况可以通过实现 specific object APIs 来解决）。\n",
    "\n",
    "不像pickle，对一个不信任的JSON进行反序列化的操作本身不会造成任意代码执行漏洞。\n",
    "\n",
    "pickle, 腌黄瓜的意思\n",
    "# 其他储存格式\n",
    "- csv\n",
    "- json"
   ]
  },
  {
   "cell_type": "code",
   "execution_count": 7,
   "outputs": [],
   "source": [
    "import pickle\n",
    "\n",
    "person = {\"name\" : \"Tom\", \"age\" : 11}\n",
    "a = 11"
   ],
   "metadata": {
    "collapsed": false,
    "pycharm": {
     "name": "#%%\n"
    }
   }
  },
  {
   "cell_type": "code",
   "execution_count": 8,
   "outputs": [],
   "source": [
    "with open(\"pickl.p\",\"wb\") as f:\n",
    "    pickle.dump([person, a], f)"
   ],
   "metadata": {
    "collapsed": false,
    "pycharm": {
     "name": "#%%\n"
    }
   }
  },
  {
   "cell_type": "code",
   "execution_count": 9,
   "outputs": [],
   "source": [
    "# 在反序列化的时候，仍然需要知道pickle原本是怎么储存的。\n",
    "with open(\"pickl.p\",\"rb\") as f:\n",
    "    [c, d] = pickle.load(f)"
   ],
   "metadata": {
    "collapsed": false,
    "pycharm": {
     "name": "#%%\n"
    }
   }
  },
  {
   "cell_type": "code",
   "execution_count": 10,
   "outputs": [
    {
     "data": {
      "text/plain": "{'name': 'Tom', 'age': 11}"
     },
     "execution_count": 10,
     "metadata": {},
     "output_type": "execute_result"
    }
   ],
   "source": [
    "c"
   ],
   "metadata": {
    "collapsed": false,
    "pycharm": {
     "name": "#%%\n"
    }
   }
  },
  {
   "cell_type": "code",
   "execution_count": 11,
   "outputs": [
    {
     "data": {
      "text/plain": "11"
     },
     "execution_count": 11,
     "metadata": {},
     "output_type": "execute_result"
    }
   ],
   "source": [
    "d"
   ],
   "metadata": {
    "collapsed": false,
    "pycharm": {
     "name": "#%%\n"
    }
   }
  }
 ],
 "metadata": {
  "kernelspec": {
   "display_name": "Python 3",
   "language": "python",
   "name": "python3"
  },
  "language_info": {
   "codemirror_mode": {
    "name": "ipython",
    "version": 2
   },
   "file_extension": ".py",
   "mimetype": "text/x-python",
   "name": "python",
   "nbconvert_exporter": "python",
   "pygments_lexer": "ipython2",
   "version": "2.7.6"
  }
 },
 "nbformat": 4,
 "nbformat_minor": 0
}