{
 "cells": [
  {
   "cell_type": "markdown",
   "source": [
    "# 0 前言\n",
    "HTТP是无状态的协议，对于事务处理没有记忆能力，每次客户端和服务端连接完成后，服务端不会储存任何连接信息。每个请求都是完全独立的。\n",
    "服务器维护一个状态来分辨两次的请求是否是同一个人，这个状态可以是cookie也可以是session。\n",
    "# 1 cookie\n",
    "cookie就是浏览器储存的一种数据文件，首先服务器生成cookie发送给浏览器，客户端浏览器把cookie以key-value的形式保存在本地。下次会话的时候，客户端把cookie发给服务端。\n",
    "cookie保存在本地，所以有可能被恶意修改。\n",
    "# 2 session（会话）\n",
    "服务器临时保存客户端信息，用户离开网站后会被销毁。服务器负载均衡的影响。\n",
    "\n",
    "# 3 对比\n",
    "- session更安全\n",
    "- cookie只能储存字符串\n",
    "- cookie长时间保持，比如默认登录。session，马上销毁。\n",
    "- cookie储存的文件容量更大。"
   ],
   "metadata": {
    "collapsed": false,
    "pycharm": {
     "name": "#%% md\n"
    }
   }
  },
  {
   "cell_type": "markdown",
   "metadata": {
    "collapsed": true,
    "pycharm": {
     "name": "#%% md\n"
    }
   },
   "source": [
    "# 1 什么是jwt\n",
    "JSON Web Token (JWT) is a compact URL-safe means of representing claims to be transferred between two parties.\n",
    "\n",
    "# 2 工作原理\n",
    "![image-20211015183343564](https://gitee.com/umecjf/figures/raw/master/image-20211015183343564.png)\n",
    "![image-20211015183400321](https://gitee.com/umecjf/figures/raw/master/image-20211015183400321.png)\n",
    "# 3 用途\n",
    "\n",
    "# 如何使用\n",
    "[jwt在线网站](jwt.io)\n",
    "第一部分我们称它为头部（header),第二部分我们称其为载荷（payload, 类似于飞机上承载的物品)，第三部分是签证（signature).\n",
    "\n",
    "## header\n",
    "jwt的头部承载两部分信息：\n",
    "\n",
    "声明类型，这里是jwt\n",
    "声明加密的算法 通常直接使用 HMAC SHA256\n",
    "## playload\n",
    "载荷就是存放有效信息的地方。这个名字像是特指飞机上承载的货品，这些有效信息包含三个部分\n",
    "\n",
    "标准中注册的声明\n",
    "公共的声明\n",
    "私有的声明\n",
    "## signature\n",
    "jwt的第三部分是一个签证信息，这个签证信息由三部分组成：\n",
    "\n",
    "header (base64后的)\n",
    "payload (base64后的)\n",
    "secret\n",
    "这个部分需要base64加密后的header和base64加密后的payload使用.连接组成的字符串，然后通过header中声明的加密方式进行加盐secret组合加密，然后就构成了jwt的第三部分。"
   ]
  },
  {
   "cell_type": "code",
   "execution_count": 1,
   "outputs": [
    {
     "ename": "AttributeError",
     "evalue": "module 'jwt' has no attribute 'encode'",
     "output_type": "error",
     "traceback": [
      "\u001B[1;31m---------------------------------------------------------------------------\u001B[0m",
      "\u001B[1;31mAttributeError\u001B[0m                            Traceback (most recent call last)",
      "\u001B[1;32m<ipython-input-1-16ec0ab5042a>\u001B[0m in \u001B[0;36m<module>\u001B[1;34m\u001B[0m\n\u001B[0;32m      1\u001B[0m \u001B[1;32mimport\u001B[0m \u001B[0mjwt\u001B[0m\u001B[1;33m\u001B[0m\u001B[1;33m\u001B[0m\u001B[0m\n\u001B[1;32m----> 2\u001B[1;33m \u001B[0mencoded_jwt\u001B[0m \u001B[1;33m=\u001B[0m \u001B[0mjwt\u001B[0m\u001B[1;33m.\u001B[0m\u001B[0mencode\u001B[0m\u001B[1;33m(\u001B[0m\u001B[1;33m{\u001B[0m\u001B[1;34m'some'\u001B[0m\u001B[1;33m:\u001B[0m \u001B[1;34m'payload'\u001B[0m\u001B[1;33m}\u001B[0m\u001B[1;33m,\u001B[0m \u001B[1;34m'applepineappleorange'\u001B[0m\u001B[1;33m,\u001B[0m \u001B[0malgorithm\u001B[0m\u001B[1;33m=\u001B[0m\u001B[1;34m'HS256'\u001B[0m\u001B[1;33m)\u001B[0m\u001B[1;33m\u001B[0m\u001B[1;33m\u001B[0m\u001B[0m\n\u001B[0m\u001B[0;32m      3\u001B[0m \u001B[0mprint\u001B[0m\u001B[1;33m(\u001B[0m\u001B[0mjwt\u001B[0m\u001B[1;33m.\u001B[0m\u001B[0mdecode\u001B[0m\u001B[1;33m(\u001B[0m\u001B[0mencoded_jwt\u001B[0m\u001B[1;33m,\u001B[0m \u001B[1;34m'applepineappleorange'\u001B[0m\u001B[1;33m,\u001B[0m \u001B[0malgorithms\u001B[0m\u001B[1;33m=\u001B[0m\u001B[1;33m[\u001B[0m\u001B[1;34m'HS256'\u001B[0m\u001B[1;33m]\u001B[0m\u001B[1;33m)\u001B[0m\u001B[1;33m)\u001B[0m\u001B[1;33m\u001B[0m\u001B[1;33m\u001B[0m\u001B[0m\n",
      "\u001B[1;31mAttributeError\u001B[0m: module 'jwt' has no attribute 'encode'"
     ]
    }
   ],
   "source": [
    "import PYJWT\n",
    "encoded_jwt = jwt.encode({'some': 'payload'}, 'applepineappleorange', algorithm='HS256')\n",
    "print(jwt.decode(encoded_jwt, 'applepineappleorange', algorithms=['HS256']))"
   ],
   "metadata": {
    "collapsed": false,
    "pycharm": {
     "name": "#%%\n"
    }
   }
  }
 ],
 "metadata": {
  "kernelspec": {
   "display_name": "Python 3",
   "language": "python",
   "name": "python3"
  },
  "language_info": {
   "codemirror_mode": {
    "name": "ipython",
    "version": 2
   },
   "file_extension": ".py",
   "mimetype": "text/x-python",
   "name": "python",
   "nbconvert_exporter": "python",
   "pygments_lexer": "ipython2",
   "version": "2.7.6"
  }
 },
 "nbformat": 4,
 "nbformat_minor": 0
}